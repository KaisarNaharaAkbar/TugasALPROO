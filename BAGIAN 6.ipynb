{
  "cells": [
    {
      "cell_type": "markdown",
      "metadata": {
        "id": "view-in-github",
        "colab_type": "text"
      },
      "source": [
        "<a href=\"https://colab.research.google.com/github/KaisarNaharaAkbar/TugasALPROO/blob/main/BAGIAN%206.ipynb\" target=\"_parent\"><img src=\"https://colab.research.google.com/assets/colab-badge.svg\" alt=\"Open In Colab\"/></a>"
      ]
    },
    {
      "cell_type": "markdown",
      "source": [
        "KONDISI PYTHON DAN PERNYATAAN"
      ],
      "metadata": {
        "id": "rXBpYfM_X0PL"
      }
    },
    {
      "cell_type": "code",
      "source": [
        "a=3\n",
        "b=200\n",
        "if b>a:\n",
        "  print(\"b lebih besar dari a\")"
      ],
      "metadata": {
        "colab": {
          "base_uri": "https://localhost:8080/"
        },
        "id": "JTTdrmfOJsn1",
        "outputId": "f4e03121-ca06-4e85-f5a0-296c156fad5b"
      },
      "execution_count": null,
      "outputs": [
        {
          "output_type": "stream",
          "name": "stdout",
          "text": [
            "b lebih besar dari a\n"
          ]
        }
      ]
    },
    {
      "cell_type": "markdown",
      "source": [
        "ELIF"
      ],
      "metadata": {
        "id": "P3CcdrpGYAMg"
      }
    },
    {
      "cell_type": "code",
      "source": [
        "a=33\n",
        "b=33\n",
        "if b>a:\n",
        "  print(\"b lebih besar dari a\")\n",
        "elif a==b:\n",
        "  print(\"a dan b bernilai sama\")"
      ],
      "metadata": {
        "colab": {
          "base_uri": "https://localhost:8080/"
        },
        "id": "yj5wdH4gNqZp",
        "outputId": "771f7006-4317-4fae-cc18-cf0837fccc33"
      },
      "execution_count": null,
      "outputs": [
        {
          "output_type": "stream",
          "name": "stdout",
          "text": [
            "a dan b bernilai sama\n"
          ]
        }
      ]
    },
    {
      "cell_type": "markdown",
      "source": [
        "ELSE"
      ],
      "metadata": {
        "id": "ck-hGZpXYC1n"
      }
    },
    {
      "cell_type": "code",
      "source": [
        "a = 200\n",
        "b = 33\n",
        "\n",
        "if b > a :\n",
        "  print(\"b lebih besar dari a\")\n",
        "elif a == b :\n",
        "  print(\"a dan b bernilai sama\")\n",
        "else:\n",
        "  print(\"a lebih besar dari b\")"
      ],
      "metadata": {
        "colab": {
          "base_uri": "https://localhost:8080/"
        },
        "id": "v9SjvNcyR1Mx",
        "outputId": "9637df53-0d0b-4547-bd58-b67e82b0b4d6"
      },
      "execution_count": null,
      "outputs": [
        {
          "output_type": "stream",
          "name": "stdout",
          "text": [
            "a lebih besar dari b\n"
          ]
        }
      ]
    },
    {
      "cell_type": "code",
      "source": [
        "a = 200\n",
        "b = 33\n",
        "\n",
        "if b > a :\n",
        "  print(\"b lebih besar dari a\")\n",
        "else :\n",
        "  print(\"b tidak lebih besar dari a\")"
      ],
      "metadata": {
        "colab": {
          "base_uri": "https://localhost:8080/"
        },
        "id": "4ft1mHFqSf6D",
        "outputId": "a5169aa7-50e8-484a-d9c1-6cc70931efdb"
      },
      "execution_count": null,
      "outputs": [
        {
          "output_type": "stream",
          "name": "stdout",
          "text": [
            "b tidak lebih besar dari a\n"
          ]
        }
      ]
    },
    {
      "cell_type": "markdown",
      "source": [
        "IF PENDEK"
      ],
      "metadata": {
        "id": "oB0qDuP6YUXZ"
      }
    },
    {
      "cell_type": "code",
      "source": [
        "a = 200\n",
        "b = 33\n",
        "if a > b : print(\"a lebih besar dari b\")"
      ],
      "metadata": {
        "colab": {
          "base_uri": "https://localhost:8080/"
        },
        "id": "t3e-TqrjVEdL",
        "outputId": "40b3b8b5-e620-451e-f04d-b8a07a0a881f"
      },
      "execution_count": null,
      "outputs": [
        {
          "output_type": "stream",
          "name": "stdout",
          "text": [
            "a lebih besar dari b\n"
          ]
        }
      ]
    },
    {
      "cell_type": "markdown",
      "source": [
        "IF ... ELSE PENDEK"
      ],
      "metadata": {
        "id": "ZjJ0DViZYV62"
      }
    },
    {
      "cell_type": "code",
      "source": [
        "a = 2\n",
        "b = 330\n",
        "print(\"A\") if a>b else print(\"B\")"
      ],
      "metadata": {
        "colab": {
          "base_uri": "https://localhost:8080/"
        },
        "id": "5ZFK84w-UJFm",
        "outputId": "95f87db2-bad8-432d-eb0d-44644b83e1eb"
      },
      "execution_count": null,
      "outputs": [
        {
          "output_type": "stream",
          "name": "stdout",
          "text": [
            "B\n"
          ]
        }
      ]
    },
    {
      "cell_type": "code",
      "source": [
        "a = 330\n",
        "b = 330\n",
        "print (\"A\") if a > b else print(\"=\") if a == b else print(\"B\")"
      ],
      "metadata": {
        "colab": {
          "base_uri": "https://localhost:8080/"
        },
        "id": "Lt6n4UJ1V4rY",
        "outputId": "1b3bcda2-feac-4d9d-eda3-60d0aa4aeda9"
      },
      "execution_count": null,
      "outputs": [
        {
          "output_type": "stream",
          "name": "stdout",
          "text": [
            "=\n"
          ]
        }
      ]
    },
    {
      "cell_type": "markdown",
      "source": [
        "AND"
      ],
      "metadata": {
        "id": "e6WadwtWYcjf"
      }
    },
    {
      "cell_type": "code",
      "source": [
        "a = 200\n",
        "b = 33\n",
        "c = 500\n",
        "if a > b and c >a:\n",
        " print(\"Kedua nya bernilai benar\")"
      ],
      "metadata": {
        "colab": {
          "base_uri": "https://localhost:8080/"
        },
        "id": "sOBFO2E3Wq1e",
        "outputId": "601ae642-2b64-4cfe-c14f-d092d6c337d8"
      },
      "execution_count": null,
      "outputs": [
        {
          "output_type": "stream",
          "name": "stdout",
          "text": [
            "Kedua nya bernilai benar\n"
          ]
        }
      ]
    },
    {
      "cell_type": "markdown",
      "source": [
        "OR"
      ],
      "metadata": {
        "id": "kPmVkC-yYh02"
      }
    },
    {
      "cell_type": "code",
      "source": [
        "a = 200\n",
        "b = 33\n",
        "c =500\n",
        "if a > b or a >c:\n",
        "  print(\"Sedikitnya satu kondisi terpenuhi\")"
      ],
      "metadata": {
        "colab": {
          "base_uri": "https://localhost:8080/"
        },
        "id": "ORE1mii7WytR",
        "outputId": "edf27d55-45d6-4dff-840a-eca79e9b84ce"
      },
      "execution_count": null,
      "outputs": [
        {
          "output_type": "stream",
          "name": "stdout",
          "text": [
            "Sedikitnya satu kondisi terpenuhi\n"
          ]
        }
      ]
    },
    {
      "cell_type": "markdown",
      "source": [
        "IF BERSARANG ( NESTED IF )"
      ],
      "metadata": {
        "id": "O64Sj_q1XYHV"
      }
    },
    {
      "cell_type": "code",
      "source": [
        "x = 41\n",
        "if x > 10:\n",
        "  print (\"Nilai di atas 10,\")\n",
        "if x > 20:\n",
        "  print(\"Dan juga di atas 20!\")\n",
        "else:\n",
        "  print(\"Tapi tidak di atas 20\")"
      ],
      "metadata": {
        "colab": {
          "base_uri": "https://localhost:8080/"
        },
        "id": "ckz1Lfm7XEik",
        "outputId": "ea8437f2-4a27-47fc-82e6-b19f4a4b12e6"
      },
      "execution_count": null,
      "outputs": [
        {
          "output_type": "stream",
          "name": "stdout",
          "text": [
            "Nilai di atas 10,\n",
            "Dan juga di atas 20!\n"
          ]
        }
      ]
    },
    {
      "cell_type": "markdown",
      "source": [
        "PERNYATAAN PASS"
      ],
      "metadata": {
        "id": "MfiN9a3VXsvM"
      }
    },
    {
      "cell_type": "code",
      "source": [
        "a = 33\n",
        "b = 200\n",
        "if b > a :\n",
        "  pass"
      ],
      "metadata": {
        "id": "rNzTQVJsXhVW"
      },
      "execution_count": null,
      "outputs": []
    },
    {
      "cell_type": "markdown",
      "source": [
        "KASUS"
      ],
      "metadata": {
        "id": "Co5klF3bZMpW"
      }
    },
    {
      "cell_type": "code",
      "source": [
        "n = int (input(\"Masukkan Nilai N = \"))\n",
        "print(\"Genap\" if n % 2 == 0 else \"Ganjil\")"
      ],
      "metadata": {
        "colab": {
          "base_uri": "https://localhost:8080/"
        },
        "id": "eKBz0ssjYlAf",
        "outputId": "20b7f442-4f1d-43fc-f360-f4269cde5c1d"
      },
      "execution_count": null,
      "outputs": [
        {
          "output_type": "stream",
          "name": "stdout",
          "text": [
            "Masukkan Nilai N = 12\n",
            "Genap\n"
          ]
        }
      ]
    }
  ],
  "metadata": {
    "colab": {
      "provenance": [],
      "include_colab_link": true
    },
    "kernelspec": {
      "display_name": "Python 3",
      "name": "python3"
    }
  },
  "nbformat": 4,
  "nbformat_minor": 0
}